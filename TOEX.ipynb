{
 "cells": [
  {
   "cell_type": "code",
   "execution_count": 127,
   "id": "b387c55e",
   "metadata": {},
   "outputs": [],
   "source": [
    "import pandas as pd\n",
    "import numpy as np\n",
    "import matplotlib.pyplot as plt\n",
    "import csv\n",
    "import seaborn as sns"
   ]
  },
  {
   "cell_type": "code",
   "execution_count": 34,
   "id": "3e34b510",
   "metadata": {},
   "outputs": [
    {
     "name": "stdout",
     "output_type": "stream",
     "text": [
      "  Financial Year  Financial Quarter         Force Name  \\\n",
      "0        2012/13                  1       Action Fraud   \n",
      "1        2012/13                  1  Avon and Somerset   \n",
      "2        2012/13                  1  Avon and Somerset   \n",
      "3        2012/13                  1  Avon and Somerset   \n",
      "4        2012/13                  1  Avon and Somerset   \n",
      "\n",
      "                                 Offence Description  \\\n",
      "0            Fraud offences recorded by Action Fraud   \n",
      "1   Abandoning child under two years (outcomes only)   \n",
      "2                     Absconding from lawful custody   \n",
      "3  Abuse of children through prostitution and por...   \n",
      "4      Abuse of position of trust of a sexual nature   \n",
      "\n",
      "                          Offence Group                      Offence Subgroup  \\\n",
      "0                        Fraud offences                   Fraud: Action Fraud   \n",
      "1           Violence against the person               Violence without injury   \n",
      "2  Miscellaneous crimes against society  Miscellaneous crimes against society   \n",
      "3                       Sexual offences                 Other sexual offences   \n",
      "4                       Sexual offences                 Other sexual offences   \n",
      "\n",
      "  Offence Code  Number of Offences  \n",
      "0           AF               20323  \n",
      "1           12                   0  \n",
      "2           80                   1  \n",
      "3           71                   0  \n",
      "4           73                   3  \n"
     ]
    }
   ],
   "source": [
    "dataset_2012 = pd.read_csv(\"dataset_2012.csv\")\n",
    "print(dataset_2012.head())\n",
    "#dataset 2012/13"
   ]
  },
  {
   "cell_type": "code",
   "execution_count": 35,
   "id": "ba902d9f",
   "metadata": {},
   "outputs": [
    {
     "name": "stdout",
     "output_type": "stream",
     "text": [
      "  Financial Year  Financial Quarter         Force Name  \\\n",
      "0        2013/14                  1       Action Fraud   \n",
      "1        2013/14                  1  Avon and Somerset   \n",
      "2        2013/14                  1  Avon and Somerset   \n",
      "3        2013/14                  1  Avon and Somerset   \n",
      "4        2013/14                  1  Avon and Somerset   \n",
      "\n",
      "                                 Offence Description  \\\n",
      "0            Fraud offences recorded by Action Fraud   \n",
      "1                                   Attempted murder   \n",
      "2   Intentional destruction of a viable unborn child   \n",
      "3                 Causing death by dangerous driving   \n",
      "4  Causing death by careless driving under influe...   \n",
      "\n",
      "                 Offence Group      Offence Subgroup Offence Code  \\\n",
      "0               Fraud offences   Fraud: Action Fraud           AF   \n",
      "1  Violence against the person  Violence with injury            2   \n",
      "2  Violence against the person  Violence with injury          4.3   \n",
      "3  Violence against the person  Violence with injury          4.4   \n",
      "4  Violence against the person  Violence with injury          4.6   \n",
      "\n",
      "   Number of Offences  \n",
      "0               54377  \n",
      "1                   5  \n",
      "2                   0  \n",
      "3                   1  \n",
      "4                   0  \n"
     ]
    }
   ],
   "source": [
    "dataset_2013 = pd.read_csv(\"dataset_2013.csv\")\n",
    "print(dataset_2013.head())\n",
    "#dataset 2013/14"
   ]
  },
  {
   "cell_type": "code",
   "execution_count": 36,
   "id": "47f7b5d8",
   "metadata": {},
   "outputs": [],
   "source": [
    "dataset_2014 = pd.read_csv(\"dataset_2014.csv\")\n",
    "#dataset 2014/15"
   ]
  },
  {
   "cell_type": "code",
   "execution_count": 37,
   "id": "c7923dbf",
   "metadata": {},
   "outputs": [],
   "source": [
    "dataset_2015 = pd.read_csv(\"dataset_2015.csv\")\n",
    "#dataset 2015/16"
   ]
  },
  {
   "cell_type": "code",
   "execution_count": 38,
   "id": "04a6ef90",
   "metadata": {},
   "outputs": [
    {
     "name": "stdout",
     "output_type": "stream",
     "text": [
      "  Financial Year  Financial Quarter       Force Name  \\\n",
      "0        2016/17                  1     Action Fraud   \n",
      "1        2016/17                  1  Avon & Somerset   \n",
      "2        2016/17                  1  Avon & Somerset   \n",
      "3        2016/17                  1  Avon & Somerset   \n",
      "4        2016/17                  1  Avon & Somerset   \n",
      "\n",
      "                             Offence Description         Offence Group  \\\n",
      "0        Fraud offences recorded by Action Fraud        Fraud offences   \n",
      "1                 Absconding from lawful custody  Miscellaneous crimes   \n",
      "2                 Absconding from lawful custody  Miscellaneous crimes   \n",
      "3                 Absconding from lawful custody  Miscellaneous crimes   \n",
      "4  Abuse of children through sexual exploitation       Sexual offences   \n",
      "\n",
      "        Offence Subgroup Offence Code  Offence Count  \n",
      "0    Fraud: action fraud           AF          61375  \n",
      "1   Miscellaneous crimes           80              3  \n",
      "2   Miscellaneous crimes           80              1  \n",
      "3   Miscellaneous crimes           80              3  \n",
      "4  Other sexual offences           71              1  \n"
     ]
    }
   ],
   "source": [
    "dataset_2016 = pd.read_csv(\"dataset_2016.csv\")\n",
    "print(dataset_2016.head())"
   ]
  },
  {
   "cell_type": "code",
   "execution_count": 39,
   "id": "1c419342",
   "metadata": {},
   "outputs": [],
   "source": [
    "dataset_2017 = pd.read_csv(\"dataset_2017.csv\")\n",
    "#dataset 2017/18"
   ]
  },
  {
   "cell_type": "code",
   "execution_count": 40,
   "id": "2a5a944b",
   "metadata": {},
   "outputs": [],
   "source": [
    "dataset_2018 = pd.read_csv(\"dataset_2018.csv\")\n",
    "#dataset 2018/19"
   ]
  },
  {
   "cell_type": "code",
   "execution_count": 41,
   "id": "b5b36938",
   "metadata": {},
   "outputs": [],
   "source": [
    "dataset_2019 = pd.read_csv(\"dataset_2019.csv\")\n",
    "#dataset 2019/20"
   ]
  },
  {
   "cell_type": "code",
   "execution_count": 42,
   "id": "7591fe05",
   "metadata": {},
   "outputs": [],
   "source": [
    "dataset_2020 = pd.read_csv(\"dataset_2020.csv\")\n",
    "#dataset 2020/21"
   ]
  },
  {
   "cell_type": "code",
   "execution_count": 43,
   "id": "7234111a",
   "metadata": {},
   "outputs": [
    {
     "name": "stdout",
     "output_type": "stream",
     "text": [
      "Total offennces in 2012 are: 4064863\n"
     ]
    }
   ],
   "source": [
    "offences_2012 =dataset_2012[\"Number of Offences\"].sum()\n",
    "print(\"Total offennces in 2012 are:\",offences_2012)"
   ]
  },
  {
   "cell_type": "code",
   "execution_count": 44,
   "id": "31a6f8a5",
   "metadata": {},
   "outputs": [
    {
     "name": "stdout",
     "output_type": "stream",
     "text": [
      "Total offennces in 2013 are: 4028602\n"
     ]
    }
   ],
   "source": [
    "offences_2013 =dataset_2013[\"Number of Offences\"].sum()\n",
    "print(\"Total offennces in 2013 are:\",offences_2013)"
   ]
  },
  {
   "cell_type": "code",
   "execution_count": 45,
   "id": "e8fd7757",
   "metadata": {},
   "outputs": [
    {
     "name": "stdout",
     "output_type": "stream",
     "text": [
      "Total offennces in 2014 are: 4167619\n"
     ]
    }
   ],
   "source": [
    "offences_2014 =dataset_2014[\"Offence Count\"].sum()\n",
    "print(\"Total offennces in 2014 are:\",offences_2014)"
   ]
  },
  {
   "cell_type": "code",
   "execution_count": 46,
   "id": "3a0c9086",
   "metadata": {},
   "outputs": [
    {
     "name": "stdout",
     "output_type": "stream",
     "text": [
      "Total offennces in 2015 are: 4515808\n"
     ]
    }
   ],
   "source": [
    "offences_2015 =dataset_2015[\"Offence Count\"].sum()\n",
    "print(\"Total offennces in 2015 are:\",offences_2015)"
   ]
  },
  {
   "cell_type": "code",
   "execution_count": 47,
   "id": "7bce0a43",
   "metadata": {},
   "outputs": [
    {
     "name": "stdout",
     "output_type": "stream",
     "text": [
      "Total offennces in 2016 are: 4976372\n"
     ]
    }
   ],
   "source": [
    "offences_2016 =dataset_2016[\"Offence Count\"].sum()\n",
    "print(\"Total offennces in 2016 are:\",offences_2016)"
   ]
  },
  {
   "cell_type": "code",
   "execution_count": 48,
   "id": "4a058f31",
   "metadata": {},
   "outputs": [
    {
     "name": "stdout",
     "output_type": "stream",
     "text": [
      "Total offennces in 2017 are: 5529910\n"
     ]
    }
   ],
   "source": [
    "offences_2017 =dataset_2017[\"Offence Count\"].sum()\n",
    "print(\"Total offennces in 2017 are:\",offences_2017)"
   ]
  },
  {
   "cell_type": "code",
   "execution_count": 49,
   "id": "20205bb5",
   "metadata": {},
   "outputs": [
    {
     "name": "stdout",
     "output_type": "stream",
     "text": [
      "Total offennces in 2018 are: 5963176\n"
     ]
    }
   ],
   "source": [
    "offences_2018 =dataset_2018[\"Offence Count\"].sum()\n",
    "print(\"Total offennces in 2018 are:\",offences_2018)"
   ]
  },
  {
   "cell_type": "code",
   "execution_count": 50,
   "id": "606ba81d",
   "metadata": {},
   "outputs": [
    {
     "name": "stdout",
     "output_type": "stream",
     "text": [
      "Total offennces in 2019 are: 6080793\n"
     ]
    }
   ],
   "source": [
    "offences_2019 =dataset_2019[\"Offence Count\"].sum()\n",
    "print(\"Total offennces in 2019 are:\",offences_2019)"
   ]
  },
  {
   "cell_type": "code",
   "execution_count": 51,
   "id": "db8ea6ef",
   "metadata": {},
   "outputs": [
    {
     "name": "stdout",
     "output_type": "stream",
     "text": [
      "Total offennces in 2020 are: 1242195\n"
     ]
    }
   ],
   "source": [
    "offences_2020 =dataset_2020[\"Offence Count\"].sum()\n",
    "print(\"Total offennces in 2020 are:\",offences_2020)"
   ]
  },
  {
   "cell_type": "code",
   "execution_count": 69,
   "id": "3cd2b240",
   "metadata": {},
   "outputs": [],
   "source": [
    "from matplotlib import pyplot as plt\n"
   ]
  },
  {
   "cell_type": "code",
   "execution_count": 117,
   "id": "840590be",
   "metadata": {},
   "outputs": [
    {
     "data": {
      "image/png": "[encoded data removed]",
      "text/plain": [
       "<Figure size 504x252 with 1 Axes>"
      ]
     },
     "metadata": {
      "needs_background": "light"
     },
     "output_type": "display_data"
    }
   ],
   "source": [
    "x = [\"2012/13\", \"2013/14\", \"2014/15\", \"2015/16\", \"2016/17\", \"2017/18\", \"2018/19\", \"2019/20\", \"2020/21\"]\n",
    "y = [4064863,4028602 ,4167619, 4515808, 4976372, 5529910, 5963176, 6080793, 1242195]\n",
    "plt.plot(x, y, color = 'g', linestyle = 'dashed',\n",
    "         marker = 'o',label = \"Offences in UK\")\n",
    "plt.xticks(rotation = 25)\n",
    "plt.xlabel('Year')\n",
    "plt.ylabel('Count (millions)')\n",
    "plt.title('Number of Offences in UK', fontsize = 20)\n",
    "plt.grid()\n",
    "plt.legend()\n",
    "plt.show ()"
   ]
  },
  {
   "cell_type": "code",
   "execution_count": 129,
   "id": "6e60b18a",
   "metadata": {},
   "outputs": [],
   "source": [
    "#DATA ANALYSIS OF PERIOD 2012/13"
   ]
  },
  {
   "cell_type": "code",
   "execution_count": 32,
   "id": "56bffe6a",
   "metadata": {},
   "outputs": [
    {
     "name": "stdout",
     "output_type": "stream",
     "text": [
      "      Financial Year  Financial Quarter         Force Name  \\\n",
      "0            2012/13                  1       Action Fraud   \n",
      "1            2012/13                  1  Avon and Somerset   \n",
      "2            2012/13                  1  Avon and Somerset   \n",
      "3            2012/13                  1  Avon and Somerset   \n",
      "4            2012/13                  1  Avon and Somerset   \n",
      "...              ...                ...                ...   \n",
      "27111        2012/13                  4          Wiltshire   \n",
      "27112        2012/13                  4          Wiltshire   \n",
      "27113        2012/13                  4          Wiltshire   \n",
      "27114        2012/13                  4          Wiltshire   \n",
      "27115        2012/13                  4          Wiltshire   \n",
      "\n",
      "                                     Offence Description  \\\n",
      "0                Fraud offences recorded by Action Fraud   \n",
      "1       Abandoning child under two years (outcomes only)   \n",
      "2                         Absconding from lawful custody   \n",
      "3      Abuse of children through prostitution and por...   \n",
      "4          Abuse of position of trust of a sexual nature   \n",
      "...                                                  ...   \n",
      "27111                          Unnatural sexual offences   \n",
      "27112  Use of substance or object to endanger life (o...   \n",
      "27113                                   Violent disorder   \n",
      "27114                   Violent disorder (outcomes only)   \n",
      "27115  Wounding or carrying out an act endangering li...   \n",
      "\n",
      "                              Offence Group  \\\n",
      "0                            Fraud offences   \n",
      "1               Violence against the person   \n",
      "2      Miscellaneous crimes against society   \n",
      "3                           Sexual offences   \n",
      "4                           Sexual offences   \n",
      "...                                     ...   \n",
      "27111                       Sexual offences   \n",
      "27112           Violence against the person   \n",
      "27113                 Public order offences   \n",
      "27114                 Public order offences   \n",
      "27115           Violence against the person   \n",
      "\n",
      "                           Offence Subgroup Offence Code  Number of Offences  \n",
      "0                       Fraud: Action Fraud           AF               20323  \n",
      "1                   Violence without injury           12                   0  \n",
      "2      Miscellaneous crimes against society           80                   1  \n",
      "3                     Other sexual offences           71                   0  \n",
      "4                     Other sexual offences           73                   3  \n",
      "...                                     ...          ...                 ...  \n",
      "27111                 Other sexual offences          88D                   0  \n",
      "27112                  Violence with injury           5B                   0  \n",
      "27113                 Public order offences          62A                  21  \n",
      "27114                 Public order offences           65                   0  \n",
      "27115                  Violence with injury           5A                   0  \n",
      "\n",
      "[27116 rows x 8 columns]\n"
     ]
    }
   ],
   "source": [
    "print (dateset_2012)"
   ]
  },
  {
   "cell_type": "code",
   "execution_count": 74,
   "id": "4fd7f551",
   "metadata": {},
   "outputs": [
    {
     "data": {
      "text/plain": [
       "Violence against the person             6336\n",
       "Miscellaneous crimes against society    5984\n",
       "Theft offences                          4048\n",
       "Sexual offences                         3872\n",
       "Criminal damage and arson               1936\n",
       "Fraud offences                          1420\n",
       "Public order offences                   1408\n",
       "Possession of weapons offences          1056\n",
       "Drug offences                            704\n",
       "Robbery                                  352\n",
       "Name: Offence Group, dtype: int64"
      ]
     },
     "execution_count": 74,
     "metadata": {},
     "output_type": "execute_result"
    }
   ],
   "source": [
    "dataset_2012['Offence Group'].value_counts(ascending=False)\n",
    "#count the number of offence group in the dataset"
   ]
  },
  {
   "cell_type": "code",
   "execution_count": 123,
   "id": "7adf4739",
   "metadata": {},
   "outputs": [
    {
     "data": {
      "text/plain": [
       "Offence Group\n",
       "Criminal damage and arson                529713\n",
       "Drug offences                            208005\n",
       "Fraud offences                           511176\n",
       "Miscellaneous crimes against society      42568\n",
       "Possession of weapons offences            19972\n",
       "Public order offences                    132478\n",
       "Robbery                                   65156\n",
       "Sexual offences                           53644\n",
       "Theft offences                          1900965\n",
       "Violence against the person              601186\n",
       "Name: Number of Offences, dtype: int64"
      ]
     },
     "execution_count": 123,
     "metadata": {},
     "output_type": "execute_result"
    }
   ],
   "source": [
    "df1 =dataset_2012.groupby(['Offence Group'])['Number of Offences'].sum()\n",
    "df1\n",
    "#count total number of offences by offence group type"
   ]
  },
  {
   "cell_type": "code",
   "execution_count": 124,
   "id": "62bc3158",
   "metadata": {},
   "outputs": [
    {
     "data": {
      "text/plain": [
       "Force Name\n",
       "Action Fraud                 117402\n",
       "Avon and Somerset             99393\n",
       "Bedfordshire                  35855\n",
       "British Transport Police      52459\n",
       "CIFAS                        217369\n",
       "Cambridgeshire                46443\n",
       "Cheshire                      57294\n",
       "Cleveland                     39523\n",
       "Cumbria                       23229\n",
       "Derbyshire                    51473\n",
       "Devon and Cornwall            85474\n",
       "Dorset                        40186\n",
       "Durham                        30123\n",
       "Dyfed-Powys                   19248\n",
       "Essex                        100171\n",
       "Financial Fraud Action UK    113143\n",
       "Gloucestershire               30100\n",
       "Greater Manchester           181146\n",
       "Gwent                         34162\n",
       "Hampshire                    108751\n",
       "Hertfordshire                 53125\n",
       "Humberside                    63978\n",
       "Kent                          98568\n",
       "Lancashire                    93933\n",
       "Leicestershire                58888\n",
       "Lincolnshire                  37594\n",
       "London, City of                5580\n",
       "Merseyside                    90842\n",
       "Metropolitan Police          770220\n",
       "Norfolk                       38193\n",
       "North Wales                   37978\n",
       "North Yorkshire               35325\n",
       "Northamptonshire              46988\n",
       "Northumbria                   67601\n",
       "Nottinghamshire               68146\n",
       "South Wales                   84530\n",
       "South Yorkshire               93668\n",
       "Staffordshire                 59416\n",
       "Suffolk                       40020\n",
       "Surrey                        52743\n",
       "Sussex                        91082\n",
       "Thames Valley                133675\n",
       "Warwickshire                  29616\n",
       "West Mercia                   60537\n",
       "West Midlands                170747\n",
       "West Yorkshire               164796\n",
       "Wiltshire                     34130\n",
       "Name: Number of Offences, dtype: int64"
      ]
     },
     "execution_count": 124,
     "metadata": {},
     "output_type": "execute_result"
    }
   ],
   "source": [
    "df2 =dataset_2012.groupby(['Force Name'])['Number of Offences'].sum()\n",
    "df2\n",
    "#occurances of offences in Force"
   ]
  },
  {
   "cell_type": "code",
   "execution_count": null,
   "id": "47082ae8",
   "metadata": {},
   "outputs": [],
   "source": [
    "#DATA ANALYSIS OF PERIOD 2019/20"
   ]
  },
  {
   "cell_type": "code",
   "execution_count": 130,
   "id": "0825fe0c",
   "metadata": {},
   "outputs": [
    {
     "name": "stdout",
     "output_type": "stream",
     "text": [
      "      Financial Year  Financial Quarter       Force Name  \\\n",
      "0            2019/20                  1     Action Fraud   \n",
      "1            2019/20                  1  Avon & Somerset   \n",
      "2            2019/20                  1  Avon & Somerset   \n",
      "3            2019/20                  1  Avon & Somerset   \n",
      "4            2019/20                  1  Avon & Somerset   \n",
      "...              ...                ...              ...   \n",
      "69167        2019/20                  4        Wiltshire   \n",
      "69168        2019/20                  4        Wiltshire   \n",
      "69169        2019/20                  4        Wiltshire   \n",
      "69170        2019/20                  4        Wiltshire   \n",
      "69171        2019/20                  4        Wiltshire   \n",
      "\n",
      "                                 Offence Description          Offence Group  \\\n",
      "0            Fraud offences recorded by Action Fraud         Fraud offences   \n",
      "1                     Absconding from lawful custody   Miscellaneous crimes   \n",
      "2                     Absconding from lawful custody   Miscellaneous crimes   \n",
      "3                     Absconding from lawful custody   Miscellaneous crimes   \n",
      "4      Abuse of children through sexual exploitation        Sexual offences   \n",
      "...                                              ...                    ...   \n",
      "69167                               Violent disorder  Public order offences   \n",
      "69168                               Violent disorder  Public order offences   \n",
      "69169                                       Wildlife   Miscellaneous crimes   \n",
      "69170                                       Wildlife   Miscellaneous crimes   \n",
      "69171                                       Wildlife   Miscellaneous crimes   \n",
      "\n",
      "            Offence Subgroup Offence Code  Offence Count  \n",
      "0        Fraud: Action Fraud           AF          84746  \n",
      "1       Miscellaneous crimes           80              1  \n",
      "2       Miscellaneous crimes           80              3  \n",
      "3       Miscellaneous crimes           80              5  \n",
      "4      Other sexual offences           71              1  \n",
      "...                      ...          ...            ...  \n",
      "69167  Public order offences          62A             27  \n",
      "69168  Public order offences          62A             29  \n",
      "69169   Miscellaneous crimes           96              0  \n",
      "69170   Miscellaneous crimes           96              0  \n",
      "69171   Miscellaneous crimes           96              0  \n",
      "\n",
      "[69172 rows x 8 columns]\n"
     ]
    }
   ],
   "source": [
    "print (dateset_2019)"
   ]
  },
  {
   "cell_type": "code",
   "execution_count": 132,
   "id": "c9e130d9",
   "metadata": {},
   "outputs": [
    {
     "data": {
      "text/plain": [
       "Offence Group\n",
       "Criminal damage and arson          558487\n",
       "Drug offences                      182515\n",
       "Fraud offences                     774541\n",
       "Miscellaneous crimes               106295\n",
       "Possession of weapons offences      47368\n",
       "Public order offences              459862\n",
       "Robbery                             90110\n",
       "Sexual offences                    162952\n",
       "Theft offences                    1927724\n",
       "Violence against the person       1770939\n",
       "Name: Offence Count, dtype: int64"
      ]
     },
     "execution_count": 132,
     "metadata": {},
     "output_type": "execute_result"
    }
   ],
   "source": [
    "df3 =dataset_2019.groupby(['Offence Group'])['Offence Count'].sum()\n",
    "df3\n",
    "#count total number of offences by offence group type"
   ]
  },
  {
   "cell_type": "code",
   "execution_count": 133,
   "id": "041febf3",
   "metadata": {},
   "outputs": [
    {
     "data": {
      "text/plain": [
       "Force Name\n",
       "Action Fraud                 230323\n",
       "Avon & Somerset               97989\n",
       "Bedfordshire                  39105\n",
       "British Transport Police      44949\n",
       "CIFAS                        257762\n",
       "Cambridgeshire                46321\n",
       "Cheshire                      53647\n",
       "Cleveland                     42041\n",
       "Cumbria                       24842\n",
       "Derbyshire                    51701\n",
       "Devon & Cornwall              80243\n",
       "Dorset                        36082\n",
       "Durham                        32924\n",
       "Dyfed-Powys                   18975\n",
       "Essex                         99740\n",
       "Financial Fraud Action UK    104982\n",
       "Gloucestershire               29247\n",
       "Greater Manchester           200280\n",
       "Gwent                         36490\n",
       "Hampshire                    111836\n",
       "Hertfordshire                 56598\n",
       "Humberside                    66313\n",
       "Kent                         110287\n",
       "Lancashire                    92559\n",
       "Leicestershire                59220\n",
       "Lincolnshire                  35255\n",
       "London, City of                5318\n",
       "Merseyside                    97244\n",
       "Metropolitan Police          700886\n",
       "Norfolk                       44175\n",
       "North Wales                   36743\n",
       "North Yorkshire               34617\n",
       "Northamptonshire              45930\n",
       "Northumbria                   72881\n",
       "Nottinghamshire               72447\n",
       "South Wales                   89388\n",
       "South Yorkshire               93466\n",
       "Staffordshire                 60763\n",
       "Suffolk                       38000\n",
       "Surrey                        50339\n",
       "Sussex                        90407\n",
       "Thames Valley                120942\n",
       "Warwickshire                  27294\n",
       "West Mercia                   60763\n",
       "West Midlands                176280\n",
       "West Yorkshire               157811\n",
       "Wiltshire                     32214\n",
       "Name: Offence Count, dtype: int64"
      ]
     },
     "execution_count": 133,
     "metadata": {},
     "output_type": "execute_result"
    }
   ],
   "source": [
    "df4 =dataset_2014.groupby(['Force Name'])['Offence Count'].sum()\n",
    "df4\n",
    "#occurances of offences in Force"
   ]
  },
  {
   "cell_type": "code",
   "execution_count": null,
   "id": "6e6a42f8",
   "metadata": {},
   "outputs": [],
   "source": []
  }
 ],
 "metadata": {
  "kernelspec": {
   "display_name": "Python 3 (ipykernel)",
   "language": "python",
   "name": "python3"
  },
  "language_info": {
   "codemirror_mode": {
    "name": "ipython",
    "version": 3
   },
   "file_extension": ".py",
   "mimetype": "text/x-python",
   "name": "python",
   "nbconvert_exporter": "python",
   "pygments_lexer": "ipython3",
   "version": "3.9.7"
  }
 },
 "nbformat": 4,
 "nbformat_minor": 5
}
