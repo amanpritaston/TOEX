{
 "cells": [
  {
   "cell_type": "code",
   "execution_count": 2,
   "id": "b387c55e",
   "metadata": {},
   "outputs": [],
   "source": [
    "import pandas as pd\n",
    "import numpy as np\n",
    "import matplotlib.pyplot as plt\n",
    "import csv\n",
    "import seaborn as sns"
   ]
  },
  {
   "cell_type": "code",
   "execution_count": null,
   "id": "723e6063",
   "metadata": {},
   "outputs": [],
   "source": [
    "#TASK 1: setting datasets"
   ]
  },
  {
   "cell_type": "code",
   "execution_count": 15,
   "id": "3e34b510",
   "metadata": {
    "scrolled": true
   },
   "outputs": [],
   "source": [
    "dataset_2012 = pd.read_csv(\"dataset_2012.csv\")\n",
    "#print(dataset_2012.head())\n",
    "#dataset 2012/13"
   ]
  },
  {
   "cell_type": "code",
   "execution_count": 16,
   "id": "ba902d9f",
   "metadata": {},
   "outputs": [],
   "source": [
    "dataset_2013 = pd.read_csv(\"dataset_2013.csv\")\n",
    "#print(dataset_2013.head())\n",
    "#dataset 2013/14"
   ]
  },
  {
   "cell_type": "code",
   "execution_count": 7,
   "id": "47f7b5d8",
   "metadata": {},
   "outputs": [],
   "source": [
    "dataset_2014 = pd.read_csv(\"dataset_2014.csv\")\n",
    "#dataset 2014/15"
   ]
  },
  {
   "cell_type": "code",
   "execution_count": 8,
   "id": "c7923dbf",
   "metadata": {},
   "outputs": [],
   "source": [
    "dataset_2015 = pd.read_csv(\"dataset_2015.csv\")\n",
    "#dataset 2015/16"
   ]
  },
  {
   "cell_type": "code",
   "execution_count": 10,
   "id": "04a6ef90",
   "metadata": {},
   "outputs": [],
   "source": [
    "dataset_2016 = pd.read_csv(\"dataset_2016.csv\")\n",
    "#dataset 2016/17"
   ]
  },
  {
   "cell_type": "code",
   "execution_count": 11,
   "id": "1c419342",
   "metadata": {},
   "outputs": [],
   "source": [
    "dataset_2017 = pd.read_csv(\"dataset_2017.csv\")\n",
    "#dataset 2017/18"
   ]
  },
  {
   "cell_type": "code",
   "execution_count": 12,
   "id": "2a5a944b",
   "metadata": {},
   "outputs": [],
   "source": [
    "dataset_2018 = pd.read_csv(\"dataset_2018.csv\")\n",
    "#dataset 2018/19"
   ]
  },
  {
   "cell_type": "code",
   "execution_count": 13,
   "id": "b5b36938",
   "metadata": {},
   "outputs": [],
   "source": [
    "dataset_2019 = pd.read_csv(\"dataset_2019.csv\")\n",
    "#dataset 2019/20"
   ]
  },
  {
   "cell_type": "code",
   "execution_count": 14,
   "id": "7591fe05",
   "metadata": {},
   "outputs": [],
   "source": [
    "dataset_2020 = pd.read_csv(\"dataset_2020.csv\")\n",
    "#dataset 2020/21"
   ]
  },
  {
   "cell_type": "code",
   "execution_count": null,
   "id": "922a76b1",
   "metadata": {},
   "outputs": [],
   "source": [
    "#TASK 2: Counting total offences by year"
   ]
  },
  {
   "cell_type": "code",
   "execution_count": 43,
   "id": "7234111a",
   "metadata": {},
   "outputs": [
    {
     "name": "stdout",
     "output_type": "stream",
     "text": [
      "Total offennces in 2012 are: 4064863\n"
     ]
    }
   ],
   "source": [
    "offences_2012 =dataset_2012[\"Number of Offences\"].sum()\n",
    "print(\"Total offennces in 2012 are:\",offences_2012)"
   ]
  },
  {
   "cell_type": "code",
   "execution_count": 44,
   "id": "31a6f8a5",
   "metadata": {},
   "outputs": [
    {
     "name": "stdout",
     "output_type": "stream",
     "text": [
      "Total offennces in 2013 are: 4028602\n"
     ]
    }
   ],
   "source": [
    "offences_2013 =dataset_2013[\"Number of Offences\"].sum()\n",
    "print(\"Total offennces in 2013 are:\",offences_2013)"
   ]
  },
  {
   "cell_type": "code",
   "execution_count": 45,
   "id": "e8fd7757",
   "metadata": {},
   "outputs": [
    {
     "name": "stdout",
     "output_type": "stream",
     "text": [
      "Total offennces in 2014 are: 4167619\n"
     ]
    }
   ],
   "source": [
    "offences_2014 =dataset_2014[\"Offence Count\"].sum()\n",
    "print(\"Total offennces in 2014 are:\",offences_2014)"
   ]
  },
  {
   "cell_type": "code",
   "execution_count": 46,
   "id": "3a0c9086",
   "metadata": {},
   "outputs": [
    {
     "name": "stdout",
     "output_type": "stream",
     "text": [
      "Total offennces in 2015 are: 4515808\n"
     ]
    }
   ],
   "source": [
    "offences_2015 =dataset_2015[\"Offence Count\"].sum()\n",
    "print(\"Total offennces in 2015 are:\",offences_2015)"
   ]
  },
  {
   "cell_type": "code",
   "execution_count": 47,
   "id": "7bce0a43",
   "metadata": {},
   "outputs": [
    {
     "name": "stdout",
     "output_type": "stream",
     "text": [
      "Total offennces in 2016 are: 4976372\n"
     ]
    }
   ],
   "source": [
    "offences_2016 =dataset_2016[\"Offence Count\"].sum()\n",
    "print(\"Total offennces in 2016 are:\",offences_2016)"
   ]
  },
  {
   "cell_type": "code",
   "execution_count": 48,
   "id": "4a058f31",
   "metadata": {},
   "outputs": [
    {
     "name": "stdout",
     "output_type": "stream",
     "text": [
      "Total offennces in 2017 are: 5529910\n"
     ]
    }
   ],
   "source": [
    "offences_2017 =dataset_2017[\"Offence Count\"].sum()\n",
    "print(\"Total offennces in 2017 are:\",offences_2017)"
   ]
  },
  {
   "cell_type": "code",
   "execution_count": 49,
   "id": "20205bb5",
   "metadata": {},
   "outputs": [
    {
     "name": "stdout",
     "output_type": "stream",
     "text": [
      "Total offennces in 2018 are: 5963176\n"
     ]
    }
   ],
   "source": [
    "offences_2018 =dataset_2018[\"Offence Count\"].sum()\n",
    "print(\"Total offennces in 2018 are:\",offences_2018)"
   ]
  },
  {
   "cell_type": "code",
   "execution_count": 50,
   "id": "606ba81d",
   "metadata": {},
   "outputs": [
    {
     "name": "stdout",
     "output_type": "stream",
     "text": [
      "Total offennces in 2019 are: 6080793\n"
     ]
    }
   ],
   "source": [
    "offences_2019 =dataset_2019[\"Offence Count\"].sum()\n",
    "print(\"Total offennces in 2019 are:\",offences_2019)"
   ]
  },
  {
   "cell_type": "code",
   "execution_count": 51,
   "id": "db8ea6ef",
   "metadata": {},
   "outputs": [
    {
     "name": "stdout",
     "output_type": "stream",
     "text": [
      "Total offennces in 2020 are: 1242195\n"
     ]
    }
   ],
   "source": [
    "offences_2020 =dataset_2020[\"Offence Count\"].sum()\n",
    "print(\"Total offennces in 2020 are:\",offences_2020)"
   ]
  },
  {
   "cell_type": "code",
   "execution_count": null,
   "id": "e81430db",
   "metadata": {},
   "outputs": [],
   "source": [
    "#TASK 3: data visualisation (by using matplotlib) of total offences by each year"
   ]
  },
  {
   "cell_type": "code",
   "execution_count": 69,
   "id": "3cd2b240",
   "metadata": {},
   "outputs": [],
   "source": [
    "from matplotlib import pyplot as pl"
   ]
  },
  {
   "cell_type": "code",
   "execution_count": 117,
   "id": "840590be",
   "metadata": {},
   "outputs": [
    {
     "data": {
      "image/png": "[encoded data removed]",
      "text/plain": [
       "<Figure size 504x252 with 1 Axes>"
      ]
     },
     "metadata": {
      "needs_background": "light"
     },
     "output_type": "display_data"
    }
   ],
   "source": [
    "x = [\"2012/13\", \"2013/14\", \"2014/15\", \"2015/16\", \"2016/17\", \"2017/18\", \"2018/19\", \"2019/20\", \"2020/21\"]\n",
    "y = [4064863,4028602 ,4167619, 4515808, 4976372, 5529910, 5963176, 6080793, 1242195]\n",
    "plt.plot(x, y, color = 'g', linestyle = 'dashed',\n",
    "         marker = 'o',label = \"Offences in UK\")\n",
    "plt.xticks(rotation = 25)\n",
    "plt.xlabel('Year')\n",
    "plt.ylabel('Count (millions)')\n",
    "plt.title('Number of Offences in UK', fontsize = 20)\n",
    "plt.grid()\n",
    "plt.legend()\n",
    "plt.show ()"
   ]
  },
  {
   "cell_type": "code",
   "execution_count": null,
   "id": "410172c5",
   "metadata": {},
   "outputs": [],
   "source": [
    "#TASK 4: Prediction for year 2021/22 in base of https://www.gov.uk/government/statistics/crime-outcomes-in-england-and-wales-2021-to-2022/crime-outcomes-in-england-and-wales-2021-to-2022"
   ]
  },
  {
   "cell_type": "code",
   "execution_count": 9,
   "id": "f844b8bc",
   "metadata": {},
   "outputs": [
    {
     "data": {
      "image/png": "[encoded data removed]",
      "text/plain": [
       "<Figure size 432x288 with 1 Axes>"
      ]
     },
     "metadata": {
      "needs_background": "light"
     },
     "output_type": "display_data"
    }
   ],
   "source": [
    "x = [\"2012/13\", \"2013/14\", \"2014/15\", \"2015/16\", \"2016/17\", \"2017/18\", \"2018/19\", \"2019/20\", \"2020/21\", \"2021/22\", \"2022/23\"]\n",
    "y = [4064863,4028602 ,4167619, 4515808, 4976372, 5529910, 5963176, 6080793, 1242195, 5801376, 6309243 ]\n",
    "plt.plot(x, y, color = 'r', linestyle = 'dashed',\n",
    "         marker = 'o')\n",
    "plt.xticks(rotation = 25)\n",
    "plt.xlabel('Year')\n",
    "plt.ylabel('Count (millions)')\n",
    "plt.title('Predictions for 2022/2023', fontsize = 20)\n",
    "plt.grid()\n",
    "plt.show ()"
   ]
  },
  {
   "cell_type": "code",
   "execution_count": 129,
   "id": "6e60b18a",
   "metadata": {},
   "outputs": [],
   "source": [
    "# TASK 5: DATA ANALYSIS OF PERIOD 2012/13"
   ]
  },
  {
   "cell_type": "code",
   "execution_count": 32,
   "id": "56bffe6a",
   "metadata": {},
   "outputs": [
    {
     "name": "stdout",
     "output_type": "stream",
     "text": [
      "      Financial Year  Financial Quarter         Force Name  \\\n",
      "0            2012/13                  1       Action Fraud   \n",
      "1            2012/13                  1  Avon and Somerset   \n",
      "2            2012/13                  1  Avon and Somerset   \n",
      "3            2012/13                  1  Avon and Somerset   \n",
      "4            2012/13                  1  Avon and Somerset   \n",
      "...              ...                ...                ...   \n",
      "27111        2012/13                  4          Wiltshire   \n",
      "27112        2012/13                  4          Wiltshire   \n",
      "27113        2012/13                  4          Wiltshire   \n",
      "27114        2012/13                  4          Wiltshire   \n",
      "27115        2012/13                  4          Wiltshire   \n",
      "\n",
      "                                     Offence Description  \\\n",
      "0                Fraud offences recorded by Action Fraud   \n",
      "1       Abandoning child under two years (outcomes only)   \n",
      "2                         Absconding from lawful custody   \n",
      "3      Abuse of children through prostitution and por...   \n",
      "4          Abuse of position of trust of a sexual nature   \n",
      "...                                                  ...   \n",
      "27111                          Unnatural sexual offences   \n",
      "27112  Use of substance or object to endanger life (o...   \n",
      "27113                                   Violent disorder   \n",
      "27114                   Violent disorder (outcomes only)   \n",
      "27115  Wounding or carrying out an act endangering li...   \n",
      "\n",
      "                              Offence Group  \\\n",
      "0                            Fraud offences   \n",
      "1               Violence against the person   \n",
      "2      Miscellaneous crimes against society   \n",
      "3                           Sexual offences   \n",
      "4                           Sexual offences   \n",
      "...                                     ...   \n",
      "27111                       Sexual offences   \n",
      "27112           Violence against the person   \n",
      "27113                 Public order offences   \n",
      "27114                 Public order offences   \n",
      "27115           Violence against the person   \n",
      "\n",
      "                           Offence Subgroup Offence Code  Number of Offences  \n",
      "0                       Fraud: Action Fraud           AF               20323  \n",
      "1                   Violence without injury           12                   0  \n",
      "2      Miscellaneous crimes against society           80                   1  \n",
      "3                     Other sexual offences           71                   0  \n",
      "4                     Other sexual offences           73                   3  \n",
      "...                                     ...          ...                 ...  \n",
      "27111                 Other sexual offences          88D                   0  \n",
      "27112                  Violence with injury           5B                   0  \n",
      "27113                 Public order offences          62A                  21  \n",
      "27114                 Public order offences           65                   0  \n",
      "27115                  Violence with injury           5A                   0  \n",
      "\n",
      "[27116 rows x 8 columns]\n"
     ]
    }
   ],
   "source": [
    "print (dateset_2012)"
   ]
  },
  {
   "cell_type": "code",
   "execution_count": 20,
   "id": "4fd7f551",
   "metadata": {},
   "outputs": [
    {
     "data": {
      "text/plain": [
       "Violence against the person             6336\n",
       "Miscellaneous crimes against society    5984\n",
       "Theft offences                          4048\n",
       "Sexual offences                         3872\n",
       "Criminal damage and arson               1936\n",
       "Fraud offences                          1420\n",
       "Public order offences                   1408\n",
       "Possession of weapons offences          1056\n",
       "Drug offences                            704\n",
       "Robbery                                  352\n",
       "Name: Offence Group, dtype: int64"
      ]
     },
     "execution_count": 20,
     "metadata": {},
     "output_type": "execute_result"
    }
   ],
   "source": [
    "dataset_2012['Offence Group'].value_counts(ascending=False)\n",
    "#count the number of offence group in the dataset"
   ]
  },
  {
   "cell_type": "code",
   "execution_count": 123,
   "id": "7adf4739",
   "metadata": {},
   "outputs": [
    {
     "data": {
      "text/plain": [
       "Offence Group\n",
       "Criminal damage and arson                529713\n",
       "Drug offences                            208005\n",
       "Fraud offences                           511176\n",
       "Miscellaneous crimes against society      42568\n",
       "Possession of weapons offences            19972\n",
       "Public order offences                    132478\n",
       "Robbery                                   65156\n",
       "Sexual offences                           53644\n",
       "Theft offences                          1900965\n",
       "Violence against the person              601186\n",
       "Name: Number of Offences, dtype: int64"
      ]
     },
     "execution_count": 123,
     "metadata": {},
     "output_type": "execute_result"
    }
   ],
   "source": [
    "df1 =dataset_2012.groupby(['Offence Group'])['Number of Offences'].sum()\n",
    "df1\n",
    "#count total number of offences by offence group type"
   ]
  },
  {
   "cell_type": "code",
   "execution_count": null,
   "id": "47082ae8",
   "metadata": {},
   "outputs": [],
   "source": [
    "#TASK 6: DATA ANALYSIS OF PERIOD 2019/20"
   ]
  },
  {
   "cell_type": "code",
   "execution_count": 130,
   "id": "0825fe0c",
   "metadata": {},
   "outputs": [
    {
     "name": "stdout",
     "output_type": "stream",
     "text": [
      "      Financial Year  Financial Quarter       Force Name  \\\n",
      "0            2019/20                  1     Action Fraud   \n",
      "1            2019/20                  1  Avon & Somerset   \n",
      "2            2019/20                  1  Avon & Somerset   \n",
      "3            2019/20                  1  Avon & Somerset   \n",
      "4            2019/20                  1  Avon & Somerset   \n",
      "...              ...                ...              ...   \n",
      "69167        2019/20                  4        Wiltshire   \n",
      "69168        2019/20                  4        Wiltshire   \n",
      "69169        2019/20                  4        Wiltshire   \n",
      "69170        2019/20                  4        Wiltshire   \n",
      "69171        2019/20                  4        Wiltshire   \n",
      "\n",
      "                                 Offence Description          Offence Group  \\\n",
      "0            Fraud offences recorded by Action Fraud         Fraud offences   \n",
      "1                     Absconding from lawful custody   Miscellaneous crimes   \n",
      "2                     Absconding from lawful custody   Miscellaneous crimes   \n",
      "3                     Absconding from lawful custody   Miscellaneous crimes   \n",
      "4      Abuse of children through sexual exploitation        Sexual offences   \n",
      "...                                              ...                    ...   \n",
      "69167                               Violent disorder  Public order offences   \n",
      "69168                               Violent disorder  Public order offences   \n",
      "69169                                       Wildlife   Miscellaneous crimes   \n",
      "69170                                       Wildlife   Miscellaneous crimes   \n",
      "69171                                       Wildlife   Miscellaneous crimes   \n",
      "\n",
      "            Offence Subgroup Offence Code  Offence Count  \n",
      "0        Fraud: Action Fraud           AF          84746  \n",
      "1       Miscellaneous crimes           80              1  \n",
      "2       Miscellaneous crimes           80              3  \n",
      "3       Miscellaneous crimes           80              5  \n",
      "4      Other sexual offences           71              1  \n",
      "...                      ...          ...            ...  \n",
      "69167  Public order offences          62A             27  \n",
      "69168  Public order offences          62A             29  \n",
      "69169   Miscellaneous crimes           96              0  \n",
      "69170   Miscellaneous crimes           96              0  \n",
      "69171   Miscellaneous crimes           96              0  \n",
      "\n",
      "[69172 rows x 8 columns]\n"
     ]
    }
   ],
   "source": [
    "print (dateset_2019)"
   ]
  },
  {
   "cell_type": "code",
   "execution_count": 132,
   "id": "c9e130d9",
   "metadata": {},
   "outputs": [
    {
     "data": {
      "text/plain": [
       "Offence Group\n",
       "Criminal damage and arson          558487\n",
       "Drug offences                      182515\n",
       "Fraud offences                     774541\n",
       "Miscellaneous crimes               106295\n",
       "Possession of weapons offences      47368\n",
       "Public order offences              459862\n",
       "Robbery                             90110\n",
       "Sexual offences                    162952\n",
       "Theft offences                    1927724\n",
       "Violence against the person       1770939\n",
       "Name: Offence Count, dtype: int64"
      ]
     },
     "execution_count": 132,
     "metadata": {},
     "output_type": "execute_result"
    }
   ],
   "source": [
    "df2 =dataset_2019.groupby(['Offence Group'])['Offence Count'].sum()\n",
    "df2\n",
    "#count total number of offences by offence group type"
   ]
  },
  {
   "cell_type": "code",
   "execution_count": null,
   "id": "0d935610",
   "metadata": {},
   "outputs": [],
   "source": [
    "# TASK 7: Count of offences throughout the year at 4 main forces in UK"
   ]
  },
  {
   "cell_type": "code",
   "execution_count": 38,
   "id": "849d3073",
   "metadata": {},
   "outputs": [
    {
     "name": "stdout",
     "output_type": "stream",
     "text": [
      "Total offennces in 2012 at West midlands 170747\n",
      "Total offennces in 2012 at Metropolitan Police 770220\n",
      "Total offennces in 2012 at West Yorkshire 164796\n",
      "Total offennces in 2012 at Greater Manchester 181146\n"
     ]
    }
   ],
   "source": [
    "df3 =dataset_2012.groupby(['Force Name'])['Number of Offences'].sum()\n",
    "print(\"Total offennces in 2012 at West midlands\",df3['West Midlands'])\n",
    "print(\"Total offennces in 2012 at Metropolitan Police\",df3 ['Metropolitan Police'])\n",
    "print(\"Total offennces in 2012 at West Yorkshire\",df3 ['West Yorkshire'])\n",
    "print(\"Total offennces in 2012 at Greater Manchester\",df3 ['Greater Manchester'])"
   ]
  },
  {
   "cell_type": "code",
   "execution_count": 39,
   "id": "d3b5f44e",
   "metadata": {},
   "outputs": [
    {
     "name": "stdout",
     "output_type": "stream",
     "text": [
      "Total offennces in 2013 at West midlands 174525\n",
      "Total offennces in 2013 at Metropolitan Police 698729\n",
      "Total offennces in 2013 at West Yorkshire 159521\n",
      "Total offennces in 2013 at Greater Manchester 181828\n"
     ]
    }
   ],
   "source": [
    "df4 =dataset_2013.groupby(['Force Name'])['Number of Offences'].sum()\n",
    "print(\"Total offennces in 2013 at West midlands\",df4['West Midlands'])\n",
    "print(\"Total offennces in 2013 at Metropolitan Police\",df4 ['Metropolitan Police'])\n",
    "print(\"Total offennces in 2013 at West Yorkshire\",df4 ['West Yorkshire'])\n",
    "print(\"Total offennces in 2013 at Greater Manchester\",df4 ['Greater Manchester'])"
   ]
  },
  {
   "cell_type": "code",
   "execution_count": 42,
   "id": "7ee7d4af",
   "metadata": {},
   "outputs": [
    {
     "name": "stdout",
     "output_type": "stream",
     "text": [
      "Total offennces in 2014 at West midlands 176280\n",
      "Total offennces in 2014 at Metropolitan Police 700886\n",
      "Total offennces in 2014 at West Yorkshire 157811\n",
      "Total offennces in 2014 at Greater Manchester 200280\n"
     ]
    }
   ],
   "source": [
    "df5 =dataset_2014.groupby(['Force Name'])['Offence Count'].sum()\n",
    "print(\"Total offennces in 2014 at West midlands\",df5['West Midlands'])\n",
    "print(\"Total offennces in 2014 at Metropolitan Police\",df5 ['Metropolitan Police'])\n",
    "print(\"Total offennces in 2014 at West Yorkshire\",df5 ['West Yorkshire'])\n",
    "print(\"Total offennces in 2014 at Greater Manchester\",df5 ['Greater Manchester'])"
   ]
  },
  {
   "cell_type": "code",
   "execution_count": 44,
   "id": "0f094f67",
   "metadata": {},
   "outputs": [
    {
     "name": "stdout",
     "output_type": "stream",
     "text": [
      "Total offennces in 2015 at West midlands 185632\n",
      "Total offennces in 2015 at Metropolitan Police 740586\n",
      "Total offennces in 2015 at West Yorkshire 202653\n",
      "Total offennces in 2015 at Greater Manchester 224773\n"
     ]
    }
   ],
   "source": [
    "df6 =dataset_2015.groupby(['Force Name'])['Offence Count'].sum()\n",
    "print(\"Total offennces in 2015 at West midlands\",df6['West Midlands'])\n",
    "print(\"Total offennces in 2015 at Metropolitan Police\",df6 ['Metropolitan Police'])\n",
    "print(\"Total offennces in 2015 at West Yorkshire\",df6 ['West Yorkshire'])\n",
    "print(\"Total offennces in 2015 at Greater Manchester\",df6 ['Greater Manchester'])"
   ]
  },
  {
   "cell_type": "code",
   "execution_count": 45,
   "id": "dba67b97",
   "metadata": {},
   "outputs": [
    {
     "name": "stdout",
     "output_type": "stream",
     "text": [
      "Total offennces in 2016 at West midlands 206630\n",
      "Total offennces in 2016 at Metropolitan Police 775476\n",
      "Total offennces in 2016 at West Yorkshire 239082\n",
      "Total offennces in 2016 at Greater Manchester 267480\n"
     ]
    }
   ],
   "source": [
    "df7 =dataset_2016.groupby(['Force Name'])['Offence Count'].sum()\n",
    "print(\"Total offennces in 2016 at West midlands\",df7['West Midlands'])\n",
    "print(\"Total offennces in 2016 at Metropolitan Police\",df7 ['Metropolitan Police'])\n",
    "print(\"Total offennces in 2016 at West Yorkshire\",df7 ['West Yorkshire'])\n",
    "print(\"Total offennces in 2016 at Greater Manchester\",df7 ['Greater Manchester'])"
   ]
  },
  {
   "cell_type": "code",
   "execution_count": 46,
   "id": "e8a2328c",
   "metadata": {},
   "outputs": [
    {
     "name": "stdout",
     "output_type": "stream",
     "text": [
      "Total offennces in 2017 at West midlands 233685\n",
      "Total offennces in 2017 at Metropolitan Police 821553\n",
      "Total offennces in 2017 at West Yorkshire 265703\n",
      "Total offennces in 2017 at Greater Manchester 339673\n"
     ]
    }
   ],
   "source": [
    "df8 =dataset_2017.groupby(['Force Name'])['Offence Count'].sum()\n",
    "print(\"Total offennces in 2017 at West midlands\",df8['West Midlands'])\n",
    "print(\"Total offennces in 2017 at Metropolitan Police\",df8 ['Metropolitan Police'])\n",
    "print(\"Total offennces in 2017 at West Yorkshire\",df8 ['West Yorkshire'])\n",
    "print(\"Total offennces in 2017 at Greater Manchester\",df8 ['Greater Manchester'])"
   ]
  },
  {
   "cell_type": "code",
   "execution_count": 47,
   "id": "cced39d4",
   "metadata": {},
   "outputs": [
    {
     "name": "stdout",
     "output_type": "stream",
     "text": [
      "Total offennces in 2018 at West midlands 259915\n",
      "Total offennces in 2018 at Metropolitan Police 863408\n",
      "Total offennces in 2018 at West Yorkshire 295901\n",
      "Total offennces in 2018 at Greater Manchester 333681\n"
     ]
    }
   ],
   "source": [
    "df9 =dataset_2018.groupby(['Force Name'])['Offence Count'].sum()\n",
    "print(\"Total offennces in 2018 at West midlands\",df9['West Midlands'])\n",
    "print(\"Total offennces in 2018 at Metropolitan Police\",df9 ['Metropolitan Police'])\n",
    "print(\"Total offennces in 2018 at West Yorkshire\",df9 ['West Yorkshire'])\n",
    "print(\"Total offennces in 2018 at Greater Manchester\",df9 ['Greater Manchester'])"
   ]
  },
  {
   "cell_type": "code",
   "execution_count": 48,
   "id": "10f3a21f",
   "metadata": {},
   "outputs": [
    {
     "name": "stdout",
     "output_type": "stream",
     "text": [
      "Total offennces in 2019 at West midlands 260770\n",
      "Total offennces in 2019 at Metropolitan Police 904932\n",
      "Total offennces in 2019 at West Yorkshire 288168\n",
      "Total offennces in 2019 at Greater Manchester 299137\n"
     ]
    }
   ],
   "source": [
    "df10 =dataset_2019.groupby(['Force Name'])['Offence Count'].sum()\n",
    "print(\"Total offennces in 2019 at West midlands\",df10['West Midlands'])\n",
    "print(\"Total offennces in 2019 at Metropolitan Police\",df10 ['Metropolitan Police'])\n",
    "print(\"Total offennces in 2019 at West Yorkshire\",df10 ['West Yorkshire'])\n",
    "print(\"Total offennces in 2019 at Greater Manchester\",df10 ['Greater Manchester'])"
   ]
  },
  {
   "cell_type": "code",
   "execution_count": 51,
   "id": "75725603",
   "metadata": {},
   "outputs": [
    {
     "data": {
      "text/plain": [
       "<matplotlib.legend.Legend at 0x1b6dab0c940>"
      ]
     },
     "execution_count": 51,
     "metadata": {},
     "output_type": "execute_result"
    },
    {
     "data": {
      "image/png": "[encoded data removed]",
      "text/plain": [
       "<Figure size 432x288 with 1 Axes>"
      ]
     },
     "metadata": {
      "needs_background": "light"
     },
     "output_type": "display_data"
    }
   ],
   "source": [
    "x_1 = [\"2012\", \"2013\", \"2014\", \"2015\", \"2016\", \"2017\", \"2018\", \"2019\"] #years\n",
    "y_1 = [170747, 174525,176280, 185632, 206630, 233685, 259915, 260770 ] # west midlands police\n",
    "y_2 = [770220, 698729,700886, 740586, 775476, 821553, 863408, 904932] # metropolitan police\n",
    "y_3 = [164796, 174525,157811, 202653, 239082, 265703,295901, 288168] # west yorkshire\n",
    "y_4 = [181146, 181828,200280, 224773, 267480, 339673,333681, 299137] #greater manchester\n",
    "plt.plot(x_1, y_1, label='West Midlands Police')\n",
    "plt.plot(x_1, y_2, label='Metropolitan Police')\n",
    "plt.plot(x_1, y_3, label='West Yorkshire')\n",
    "plt.plot(x_1, y_4, label='Greater Manchester')\n",
    "plt.xlabel('Year')\n",
    "plt.ylabel('Offence Count')\n",
    "plt.title('Crime trend at main 4 forces in UK (by population)')\n",
    "plt.grid(True)\n",
    "plt.legend()"
   ]
  },
  {
   "cell_type": "code",
   "execution_count": null,
   "id": "8795506f",
   "metadata": {},
   "outputs": [],
   "source": [
    "#westmidlands_dataset = dataset_2019[dataset_2019['Force Name'] == \"West Midlands\"]\n",
    "#westmidlands_dataset['Offence Count'].sum() #line to count total number of offensces within the Force"
   ]
  }
 ],
 "metadata": {
  "kernelspec": {
   "display_name": "Python 3 (ipykernel)",
   "language": "python",
   "name": "python3"
  },
  "language_info": {
   "codemirror_mode": {
    "name": "ipython",
    "version": 3
   },
   "file_extension": ".py",
   "mimetype": "text/x-python",
   "name": "python",
   "nbconvert_exporter": "python",
   "pygments_lexer": "ipython3",
   "version": "3.9.7"
  }
 },
 "nbformat": 4,
 "nbformat_minor": 5
}
